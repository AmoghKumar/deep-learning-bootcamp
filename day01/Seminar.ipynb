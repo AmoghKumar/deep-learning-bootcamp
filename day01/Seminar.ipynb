{
 "cells": [
  {
   "cell_type": "markdown",
   "id": "8bab2952-db79-4139-a35c-0e4de926a16b",
   "metadata": {},
   "source": [
    "# Introduction to Deep Learning with PyTorch"
   ]
  },
  {
   "cell_type": "markdown",
   "id": "759cf58a-5e03-4b9a-87d7-588e4249df83",
   "metadata": {},
   "source": [
    "[PyTorch](https://pytorch.org/) is one of the frameworks to create, train, and inference Deep Neural Network (DNN) models. Besides, it allows you to do a lot of math and linear algebra operations (The syntax is similar to NumPy).\n",
    "\n",
    "The official documentation has a lot of [examples and tutorials](https://pytorch.org/tutorials/), which are very helpful for the beginners. We advise you to have a look at them. Here are some useful links:\n",
    "\n",
    "* [Basics](https://pytorch.org/tutorials/beginner/basics/intro.html): several tutorials on basic PyTorch stuff\n",
    "* [Training a classifier](https://pytorch.org/tutorials/beginner/blitz/cifar10_tutorial.html)\n",
    "\n",
    "This seminar is partially built on these tutorials and [this seminar](https://github.com/markovka17/dla/blob/2023/week01/seminar.ipynb)"
   ]
  },
  {
   "cell_type": "code",
   "execution_count": 1,
   "id": "3ca88987-7ef2-496d-830e-cacbb9edd478",
   "metadata": {},
   "outputs": [],
   "source": [
    "# Some imports\n",
    "\n",
    "# computation stuff\n",
    "import torch\n",
    "import numpy as np\n",
    "\n",
    "# plotting stuff\n",
    "import matplotlib.pyplot as plt\n",
    "%matplotlib inline\n",
    "%config InlineBackend.figure_format='retina' # makes the quality higher\n",
    "\n",
    "import seaborn as sns\n",
    "sns.set_style(\"whitegrid\") # improves the quality of matplotlib images and adds grid"
   ]
  },
  {
   "cell_type": "markdown",
   "id": "a1090b1c-46f9-468e-908f-5e7c8df9811a",
   "metadata": {},
   "source": [
    "## Creation of Tensors\n",
    "\n",
    "Tensors, basically, are generalization of matrices to more than 2 dimensions: $T \\in \\mathbb{R}^{D_1 \\times D_2 \\times D_3 \\times ... \\times D_n}$ (Note: `PyTorch` also supports tensors in $\\mathbb{C}$). `PyTorch` supports several creation techniques:\n",
    "\n",
    "* From existing iterable array-like object: Python List, NumPy array, etc.\n",
    "* Using built-in functions (similar to NumPy)"
   ]
  },
  {
   "cell_type": "code",
   "execution_count": 2,
   "id": "36f238ef-77e4-4988-b31e-7ec7589d0578",
   "metadata": {},
   "outputs": [
    {
     "name": "stdout",
     "output_type": "stream",
     "text": [
      "[1, 2, 3] tensor([1, 2, 3])\n"
     ]
    }
   ],
   "source": [
    "iterable_object = [1, 2, 3]\n",
    "tensor = torch.tensor(iterable_object)\n",
    "print(iterable_object, tensor)"
   ]
  },
  {
   "cell_type": "code",
   "execution_count": 3,
   "id": "c7cfe588-b629-4765-b520-bfd930f73a22",
   "metadata": {},
   "outputs": [
    {
     "name": "stdout",
     "output_type": "stream",
     "text": [
      "[1 2 3] tensor([1, 2, 3])\n"
     ]
    }
   ],
   "source": [
    "iterable_object = np.array([1, 2, 3])\n",
    "tensor = torch.tensor(iterable_object)\n",
    "print(iterable_object, tensor)"
   ]
  },
  {
   "cell_type": "markdown",
   "id": "3eb761e5-3777-4b87-8cb0-c919a80a5c87",
   "metadata": {},
   "source": [
    "Built-it methods are preferred to save memory and increase speed."
   ]
  },
  {
   "cell_type": "code",
   "execution_count": 4,
   "id": "d18feb19-7819-4de7-8060-588b6586e4e9",
   "metadata": {},
   "outputs": [
    {
     "name": "stdout",
     "output_type": "stream",
     "text": [
      "[0 1 2] tensor([0, 1, 2])\n"
     ]
    }
   ],
   "source": [
    "numpy_array = np.arange(3)\n",
    "tensor = torch.arange(3)\n",
    "print(numpy_array, tensor)"
   ]
  },
  {
   "cell_type": "markdown",
   "id": "1b570d1e-ed4c-455a-a072-7fcd0e901bb8",
   "metadata": {},
   "source": [
    "For each tensor object, we can access some meta information"
   ]
  },
  {
   "cell_type": "code",
   "execution_count": 5,
   "id": "b14d7828-57f3-435e-92b0-b51d2bbbf507",
   "metadata": {},
   "outputs": [
    {
     "name": "stdout",
     "output_type": "stream",
     "text": [
      "Type of elements: torch.int64\n",
      "Size (or shape) : torch.Size([3])\n",
      "Number of dimensions: 1\n"
     ]
    }
   ],
   "source": [
    "print(f\"Type of elements: {tensor.dtype}\")\n",
    "print(f\"Size (or shape) : {tensor.size()}\") # equivalent to tensor.shape # Note that we do not have () here\n",
    "print(f\"Number of dimensions: {tensor.dim()}\")"
   ]
  },
  {
   "cell_type": "markdown",
   "id": "5f9721c1-f33e-45f6-8494-baaa953b7b33",
   "metadata": {},
   "source": [
    "We can create multi-dimensional tensors"
   ]
  },
  {
   "cell_type": "code",
   "execution_count": 6,
   "id": "23ca6671-372e-41ce-b14b-f7d624509435",
   "metadata": {},
   "outputs": [
    {
     "name": "stdout",
     "output_type": "stream",
     "text": [
      "Zeros tensor: tensor([[[0., 0., 0., 0., 0.],\n",
      "         [0., 0., 0., 0., 0.]],\n",
      "\n",
      "        [[0., 0., 0., 0., 0.],\n",
      "         [0., 0., 0., 0., 0.]],\n",
      "\n",
      "        [[0., 0., 0., 0., 0.],\n",
      "         [0., 0., 0., 0., 0.]]])\n",
      "Shape: torch.Size([3, 2, 5])\n",
      "-----------\n",
      "\n",
      "Random N(0, 1) tensor: tensor([[[ 0.3452, -1.8426, -0.5053, -0.1491,  0.5294],\n",
      "         [ 0.5500, -1.2011,  1.2593, -0.6449,  0.3399]],\n",
      "\n",
      "        [[-2.1666,  2.4026,  0.3618,  1.5458, -0.5531],\n",
      "         [ 0.0579,  0.6697, -0.7179,  0.1489,  0.0243]],\n",
      "\n",
      "        [[-0.2898, -0.3655, -0.0576, -0.6845, -1.7430],\n",
      "         [ 2.4222,  1.2887, -0.4693, -0.3146,  1.0934]]])\n",
      "Shape: torch.Size([3, 2, 5])\n"
     ]
    }
   ],
   "source": [
    "desired_shape = (3, 2, 5) # or [3, 2, 5]\n",
    "\n",
    "tensor = torch.zeros(desired_shape)\n",
    "print(f\"Zeros tensor: {tensor}\")\n",
    "print(f\"Shape: {tensor.shape}\")\n",
    "print(\"-----------\\n\")\n",
    "\n",
    "tensor = torch.randn(desired_shape)\n",
    "print(f\"Random N(0, 1) tensor: {tensor}\")\n",
    "print(f\"Shape: {tensor.shape}\")"
   ]
  },
  {
   "cell_type": "markdown",
   "id": "6fb385a9-5b8f-4240-9d95-81ad4c25fc03",
   "metadata": {},
   "source": [
    "It is also possible to reshape the tensors. In PyTorch, there are 2 methods for this: `view` and `reshape`. They have the same syntax and the first one is preferred, however, the former does not work sometimes (you will get a `Runtime Error`). In such a case, usually you can replace `view` with `reshape` and everything will work fine."
   ]
  },
  {
   "cell_type": "code",
   "execution_count": 7,
   "id": "019826ae-5f6d-4b34-8f64-ecd87f9bd1f1",
   "metadata": {},
   "outputs": [
    {
     "name": "stdout",
     "output_type": "stream",
     "text": [
      "Orig: tensor([0, 1, 2, 3, 4, 5, 6, 7, 8, 9])\n",
      "\n",
      "Reshape: tensor([[0, 1, 2, 3, 4],\n",
      "        [5, 6, 7, 8, 9]])\n",
      "Reshape shape: torch.Size([2, 5])\n",
      "\n",
      "View: tensor([[0, 1, 2, 3, 4],\n",
      "        [5, 6, 7, 8, 9]])\n",
      "View shape: torch.Size([2, 5])\n",
      "\n",
      "Orig again: tensor([0, 1, 2, 3, 4, 5, 6, 7, 8, 9])\n",
      "Orig shape: torch.Size([10])\n"
     ]
    }
   ],
   "source": [
    "tensor = torch.arange(10)\n",
    "print(\"Orig:\", tensor)\n",
    "print()\n",
    "\n",
    "tensor_reshape = tensor.reshape(2, 5)\n",
    "print(\"Reshape:\", tensor_reshape)\n",
    "print(\"Reshape shape:\", tensor_reshape.shape)\n",
    "print()\n",
    "\n",
    "tensor_view = tensor.view(2, 5)\n",
    "print(\"View:\", tensor_view)\n",
    "print(\"View shape:\", tensor_view.shape)\n",
    "print()\n",
    "print(\"Orig again:\", tensor)\n",
    "print(\"Orig shape:\", tensor.shape)"
   ]
  },
  {
   "cell_type": "markdown",
   "id": "08df4048-a329-401b-9320-21b18cf85500",
   "metadata": {},
   "source": [
    "Multi-dimensional reshapes are also supported:"
   ]
  },
  {
   "cell_type": "code",
   "execution_count": 8,
   "id": "89aeb8f5-b95e-4b07-9875-69808e644042",
   "metadata": {},
   "outputs": [
    {
     "name": "stdout",
     "output_type": "stream",
     "text": [
      "Old shape: torch.Size([100])\n",
      "New shape: torch.Size([2, 5, 10])\n"
     ]
    }
   ],
   "source": [
    "tensor = torch.arange(100)\n",
    "tensor_3d = tensor.view(2, 5, 10)\n",
    "print(\"Old shape:\", tensor.shape)\n",
    "print(\"New shape:\", tensor_3d.shape)"
   ]
  },
  {
   "cell_type": "markdown",
   "id": "d94b8020-b130-4151-9238-1a6b11068e65",
   "metadata": {},
   "source": [
    "Sometimes you may want to swap some dimensions or permute them:"
   ]
  },
  {
   "cell_type": "code",
   "execution_count": 9,
   "id": "aba7401b-ee24-4c60-acc7-07786db02088",
   "metadata": {},
   "outputs": [
    {
     "name": "stdout",
     "output_type": "stream",
     "text": [
      "torch.Size([2, 10, 5])\n",
      "\n",
      "torch.Size([5, 10, 2])\n"
     ]
    }
   ],
   "source": [
    "tensor_3d_v2 = tensor_3d.transpose(-1, -2) # swap the two last dimensions\n",
    "print(tensor_3d_v2.shape)\n",
    "print()\n",
    "\n",
    "# use permute if you want to change more than 2 dimensions\n",
    "tensor_3d_v3 = tensor_3d.permute(1, 2, 0) # put the 1 dim to the 0 place, 2 dim to the 1 place and 0 to the last place\n",
    "print(tensor_3d_v3.shape)"
   ]
  },
  {
   "cell_type": "markdown",
   "id": "40d16e4d-fd74-4532-a55c-7aa08db9a82f",
   "metadata": {},
   "source": [
    "The common operation is to add extra dimension (to satisfy required shape conditions for a given operation. For example, your layer want 3D input but you only have 2D input)"
   ]
  },
  {
   "cell_type": "code",
   "execution_count": 10,
   "id": "6f730e1b-975e-481a-9282-451323ccdaf2",
   "metadata": {},
   "outputs": [
    {
     "name": "stdout",
     "output_type": "stream",
     "text": [
      "torch.Size([2, 5])\n",
      "torch.Size([2, 1, 5])\n",
      "torch.Size([2, 1, 5])\n"
     ]
    }
   ],
   "source": [
    "tensor = torch.arange(10).view(2, 5)\n",
    "print(tensor.shape)\n",
    "\n",
    "tensor_unsqueeze = tensor.unsqueeze(1) # add imaginary dimension at the first index\n",
    "print(tensor_unsqueeze.shape)\n",
    "\n",
    "# you can also do it like this\n",
    "tensor_new_axis = tensor[:, None, :]\n",
    "print(tensor_new_axis.shape)"
   ]
  },
  {
   "cell_type": "markdown",
   "id": "2015ddfd-f966-4d56-8c4d-cb5801c579b0",
   "metadata": {},
   "source": [
    "And in fact, there are many other useful functions that often come in handy.\n",
    "For example, `.chunk`, `.unfold`, `.flatten`, `.scatter`, `.gather`, ....\n",
    "\n",
    "So, feel free to dive into the PyTorch documentation and find out more yourself :)"
   ]
  },
  {
   "cell_type": "markdown",
   "id": "83cac640-91e9-42f6-b773-06153fa8f6a8",
   "metadata": {},
   "source": [
    "# Tensor operations"
   ]
  },
  {
   "cell_type": "markdown",
   "id": "5da6432f-6ba5-45ff-8e97-f93c161c78e3",
   "metadata": {},
   "source": [
    "`PyTorch` and `NumPy` syntax are similar. You can do many operations on tensors"
   ]
  },
  {
   "cell_type": "code",
   "execution_count": 11,
   "id": "86e95e22-9366-4113-8d75-5f8fc0d444f0",
   "metadata": {},
   "outputs": [
    {
     "name": "stdout",
     "output_type": "stream",
     "text": [
      "torch.Size([10, 100, 1000])\n"
     ]
    },
    {
     "data": {
      "text/plain": [
       "(tensor(0.0014), tensor(1427.5685), tensor(4.6509), tensor(-4.5790))"
      ]
     },
     "execution_count": 11,
     "metadata": {},
     "output_type": "execute_result"
    }
   ],
   "source": [
    "# aggregation funcs\n",
    "\n",
    "tensor = torch.randn(10, 100, 1000)\n",
    "print(tensor.shape)\n",
    "tensor.mean(), tensor.sum(), tensor.max(), tensor.min()"
   ]
  },
  {
   "cell_type": "markdown",
   "id": "81ed62ce-1c0a-437c-a026-3ff11056f494",
   "metadata": {},
   "source": [
    "Note that aggregation funcs have `dim` and `keepdim` arguments"
   ]
  },
  {
   "cell_type": "code",
   "execution_count": 12,
   "id": "0a489216-c5be-4361-9772-f9a055a76574",
   "metadata": {},
   "outputs": [
    {
     "name": "stdout",
     "output_type": "stream",
     "text": [
      "torch.Size([100, 1000])\n",
      "torch.Size([1000])\n"
     ]
    }
   ],
   "source": [
    "# take mean over 0 dimension\n",
    "print(tensor.mean(dim=0).shape)\n",
    "\n",
    "# or over 0 and 1 dimensions\n",
    "print(tensor.mean(dim=(0, 1)).shape)"
   ]
  },
  {
   "cell_type": "code",
   "execution_count": 13,
   "id": "6c5fdb47-1ed9-440f-bc7e-f5f869856f5c",
   "metadata": {},
   "outputs": [
    {
     "name": "stdout",
     "output_type": "stream",
     "text": [
      "torch.Size([1, 100, 1])\n"
     ]
    }
   ],
   "source": [
    "# take mean over 0 and 2 dimensions and keep dimensions (i.e., the number of dimensions stays the same)\n",
    "print(tensor.mean(dim=(0, 2), keepdim=True).shape)"
   ]
  },
  {
   "cell_type": "code",
   "execution_count": 14,
   "id": "5ea3e73c-791c-4f76-ae54-66e07a3de501",
   "metadata": {},
   "outputs": [
    {
     "name": "stdout",
     "output_type": "stream",
     "text": [
      "tensor(999.1323)\n"
     ]
    }
   ],
   "source": [
    "# Frobenius norm\n",
    "print(tensor.norm(p='fro'))"
   ]
  },
  {
   "cell_type": "markdown",
   "id": "154b3b6b-f38b-442e-93b7-8bace66bd6aa",
   "metadata": {},
   "source": [
    "Linear algebra is also similar to `NumPy`"
   ]
  },
  {
   "cell_type": "code",
   "execution_count": 15,
   "id": "5e8bb430-e061-4ee2-a4c4-6f0cc77085f3",
   "metadata": {},
   "outputs": [],
   "source": [
    "A = torch.randn(10, 20)\n",
    "B = torch.randn(20, 30)\n",
    "\n",
    "C1 = A.matmul(B)\n",
    "\n",
    "# or\n",
    "C2 = A @ B\n",
    "\n",
    "# or\n",
    "C3 = torch.matmul(A, B)\n",
    "\n",
    "assert torch.equal(C1, C2)\n",
    "assert torch.equal(C2, C3)"
   ]
  },
  {
   "cell_type": "markdown",
   "id": "1239ec48-d1f2-4036-8ca0-5339116ec785",
   "metadata": {},
   "source": [
    "# Automatic Differentiation\n",
    "\n",
    "Gradient automatic computation using back-propagation:\n",
    "1. Create a tensor/tensors which requires gradient: `a = torch.tensor(..., requires_grad=True)`\n",
    "2. Define some differentiable scalar function `loss = whatever(a)`\n",
    "3. Request backward pass `loss.backward()`\n",
    "4. The gradient is available as `a.grad`\n",
    "    \n",
    "Note the loss must be a function of at least one tensor which requires gradient.\n",
    "For more information see https://pytorch.org/docs/stable/autograd.html\n",
    "\n",
    "Let's look on a simple example\n",
    "\n"
   ]
  },
  {
   "cell_type": "code",
   "execution_count": 16,
   "id": "4e958a07-d6b8-4256-9801-017f9d697595",
   "metadata": {},
   "outputs": [
    {
     "name": "stdout",
     "output_type": "stream",
     "text": [
      "x: tensor([-2.9637e-04,  5.2876e-01, -3.9855e-01, -2.9846e-02])\n",
      "y: tensor([ 0.5001, -0.7062,  1.0790, -0.2472])\n",
      "dp / dx: tensor([ 0.5001, -0.7062,  1.0790, -0.2472])\n",
      "dp / dy: tensor([-2.9637e-04,  5.2876e-01, -3.9855e-01, -2.9846e-02])\n"
     ]
    }
   ],
   "source": [
    "x = torch.randn(4, requires_grad=True)\n",
    "y = torch.randn(4, requires_grad=True)\n",
    "z = x * y + 10\n",
    "p = z.sum()\n",
    "p.backward()\n",
    "print('x:', x.data)\n",
    "print('y:', y.data)\n",
    "print('dp / dx:', x.grad)\n",
    "print('dp / dy:', y.grad)"
   ]
  },
  {
   "cell_type": "markdown",
   "id": "d68487cf-33fc-4752-bda5-0b11ef581bd7",
   "metadata": {},
   "source": [
    "**Detaching variables.**\n",
    "\n",
    "`.detach()` returns a copy of a variable, through which back-propagation doesn't pass.\n",
    "\n",
    "If you average or just store batch losses during the optimization, you'd better detach those losses before averaging or storing.\n",
    "Otherwise the computational graphs for each batch would be stored in memory as well as batch losses, so you run out of memory very fast.\n",
    "\n",
    "Also there is in-place version (`.detach_()`) which doesn't create detached copy of the variable, but detaches variable itself from its computational graph."
   ]
  },
  {
   "cell_type": "code",
   "execution_count": 17,
   "id": "a42f24f3-5b8b-4fe4-b9b7-f88b2253081d",
   "metadata": {},
   "outputs": [
    {
     "name": "stdout",
     "output_type": "stream",
     "text": [
      "x: tensor([ 0.1702, -0.6234,  2.3864, -0.7037])\n",
      "y: tensor([ 0.8170, -0.3600, -0.1344,  0.5552])\n",
      "dp / dx: tensor([ 0.8170, -0.3600, -0.1344,  0.5552])\n",
      "dp / dy: None\n"
     ]
    }
   ],
   "source": [
    "x = torch.randn(4, requires_grad=True)\n",
    "y0 = torch.randn(4, requires_grad=True)\n",
    "y = y0.detach()\n",
    "z = x * y + 10\n",
    "p = z.sum()\n",
    "p.backward()\n",
    "print('x:', x.data)\n",
    "print('y:', y.data)\n",
    "print('dp / dx:', x.grad)\n",
    "print('dp / dy:', y.grad)"
   ]
  },
  {
   "cell_type": "markdown",
   "id": "29c801d0-3ff8-4489-931a-a020ea53b23e",
   "metadata": {},
   "source": [
    "You can also reset the gradient of a specific variable.\n",
    "\n",
    "**Important**: without resetting, the gradients will sum\n",
    "\n",
    "For example, $(x^2)' = 2x, (\\frac{1}{x})' = \\frac{-1}{x^2}$. If we do not reset, we will get $2x + \\frac{-1}{x^2}$, see code below"
   ]
  },
  {
   "cell_type": "code",
   "execution_count": 18,
   "id": "393c73a3-2e3c-495e-86d0-ca8878392cb4",
   "metadata": {},
   "outputs": [
    {
     "name": "stdout",
     "output_type": "stream",
     "text": [
      "x: tensor([1., 1., 1., 1.], requires_grad=True)\n",
      "dp / dx: tensor([2., 2., 2., 2.])\n",
      "x: tensor([1., 1., 1., 1.], requires_grad=True)\n",
      "dp / dx: tensor([1., 1., 1., 1.])\n"
     ]
    }
   ],
   "source": [
    "x = torch.tensor([1., 1, 1, 1], requires_grad=True)\n",
    "y = x ** 2\n",
    "p = y.sum()\n",
    "p.backward()\n",
    "print('x:', x)\n",
    "print('dp / dx:', x.grad)\n",
    "y = 1 / x\n",
    "p = y.sum()\n",
    "p.backward()\n",
    "print('x:', x)\n",
    "print('dp / dx:', x.grad) # will actually be 2x + (-1 / x^2) because we did not reset"
   ]
  },
  {
   "cell_type": "code",
   "execution_count": 19,
   "id": "ee2c4795-a541-42db-b652-d6be10a43a02",
   "metadata": {},
   "outputs": [
    {
     "name": "stdout",
     "output_type": "stream",
     "text": [
      "x: tensor([1., 1., 1., 1.], requires_grad=True)\n",
      "dp / dx: tensor([2., 2., 2., 2.])\n",
      "x: tensor([1., 1., 1., 1.], requires_grad=True)\n",
      "dp / dx: tensor([-1., -1., -1., -1.])\n"
     ]
    }
   ],
   "source": [
    "x = torch.tensor([1, 1, 1, 1.], requires_grad=True)\n",
    "y = x ** 2\n",
    "p = y.sum()\n",
    "p.backward()\n",
    "print('x:', x)\n",
    "print('dp / dx:', x.grad)\n",
    "x.grad.zero_()         # zero gradients\n",
    "y = 1 / x\n",
    "p = y.sum()\n",
    "p.backward()\n",
    "print('x:', x)\n",
    "print('dp / dx:', x.grad)"
   ]
  },
  {
   "cell_type": "markdown",
   "id": "0e11db77-afbc-4843-9551-bc24cdd70fa4",
   "metadata": {},
   "source": [
    "For memory saving, gradients are stored only for so called leaf-variables."
   ]
  },
  {
   "cell_type": "code",
   "execution_count": 20,
   "id": "bd1e8196-904c-4f29-8254-ac15ab6bb737",
   "metadata": {},
   "outputs": [
    {
     "name": "stdout",
     "output_type": "stream",
     "text": [
      "x: tensor([-1.4009,  0.0221, -1.0029, -0.5139], requires_grad=True)\n",
      "y: tensor([-0.4009,  1.0221, -0.0029,  0.4861], grad_fn=<AddBackward0>)\n",
      "p: tensor(1.1044, grad_fn=<SumBackward0>)\n",
      "x.grad: tensor([1., 1., 1., 1.])\n",
      "y.grad: None\n",
      "p.grad: None\n"
     ]
    },
    {
     "name": "stderr",
     "output_type": "stream",
     "text": [
      "/tmp/ipykernel_25547/3752779638.py:11: UserWarning: The .grad attribute of a Tensor that is not a leaf Tensor is being accessed. Its .grad attribute won't be populated during autograd.backward(). If you indeed want the .grad field to be populated for a non-leaf Tensor, use .retain_grad() on the non-leaf Tensor. If you access the non-leaf Tensor by mistake, make sure you access the leaf Tensor instead. See github.com/pytorch/pytorch/pull/30531 for more informations. (Triggered internally at aten/src/ATen/core/TensorBody.h:489.)\n",
      "  print('y.grad:', y.grad)\n",
      "/tmp/ipykernel_25547/3752779638.py:12: UserWarning: The .grad attribute of a Tensor that is not a leaf Tensor is being accessed. Its .grad attribute won't be populated during autograd.backward(). If you indeed want the .grad field to be populated for a non-leaf Tensor, use .retain_grad() on the non-leaf Tensor. If you access the non-leaf Tensor by mistake, make sure you access the leaf Tensor instead. See github.com/pytorch/pytorch/pull/30531 for more informations. (Triggered internally at aten/src/ATen/core/TensorBody.h:489.)\n",
      "  print('p.grad:', p.grad)\n"
     ]
    }
   ],
   "source": [
    "# Don't pay attention to UserWarning from Python\n",
    "\n",
    "x = torch.randn(4, requires_grad=True)  # leaf variable\n",
    "y = x + 1                               # not a leaf variable\n",
    "p = y.sum()                             # not a leaf variable\n",
    "p.backward()\n",
    "print('x:', x)\n",
    "print('y:', y)\n",
    "print('p:', p)\n",
    "print('x.grad:', x.grad)\n",
    "print('y.grad:', y.grad)\n",
    "print('p.grad:', p.grad)"
   ]
  },
  {
   "cell_type": "code",
   "execution_count": 21,
   "id": "a276ef90-560f-4f38-aaa6-21282372f334",
   "metadata": {},
   "outputs": [
    {
     "name": "stdout",
     "output_type": "stream",
     "text": [
      "x.grad: tensor([1., 1., 1., 1.])\n",
      "y.grad: tensor([1., 1., 1., 1.])\n",
      "z.grad: None\n",
      "p.grad: None\n",
      "x.is_leaf: True\n",
      "y.is_leaf: True\n",
      "z.is_leaf: False\n",
      "p.is_leaf: False\n"
     ]
    },
    {
     "name": "stderr",
     "output_type": "stream",
     "text": [
      "/tmp/ipykernel_25547/3528970621.py:8: UserWarning: The .grad attribute of a Tensor that is not a leaf Tensor is being accessed. Its .grad attribute won't be populated during autograd.backward(). If you indeed want the .grad field to be populated for a non-leaf Tensor, use .retain_grad() on the non-leaf Tensor. If you access the non-leaf Tensor by mistake, make sure you access the leaf Tensor instead. See github.com/pytorch/pytorch/pull/30531 for more informations. (Triggered internally at aten/src/ATen/core/TensorBody.h:489.)\n",
      "  print('z.grad:', z.grad)\n",
      "/tmp/ipykernel_25547/3528970621.py:9: UserWarning: The .grad attribute of a Tensor that is not a leaf Tensor is being accessed. Its .grad attribute won't be populated during autograd.backward(). If you indeed want the .grad field to be populated for a non-leaf Tensor, use .retain_grad() on the non-leaf Tensor. If you access the non-leaf Tensor by mistake, make sure you access the leaf Tensor instead. See github.com/pytorch/pytorch/pull/30531 for more informations. (Triggered internally at aten/src/ATen/core/TensorBody.h:489.)\n",
      "  print('p.grad:', p.grad)\n"
     ]
    }
   ],
   "source": [
    "x = torch.randn(4, requires_grad=True)  # leaf variable\n",
    "y = torch.randn(4, requires_grad=True)  # leaf variable\n",
    "z = x + y    # not a leaf variable\n",
    "p = z.sum()  # not a leaf variable\n",
    "p.backward()\n",
    "print('x.grad:', x.grad)\n",
    "print('y.grad:', y.grad)\n",
    "print('z.grad:', z.grad)\n",
    "print('p.grad:', p.grad)\n",
    "print('x.is_leaf:', x.is_leaf)\n",
    "print('y.is_leaf:', y.is_leaf)\n",
    "print('z.is_leaf:', z.is_leaf)\n",
    "print('p.is_leaf:', p.is_leaf)"
   ]
  },
  {
   "cell_type": "markdown",
   "id": "f13f126e-aeea-4822-846c-0b013f232ebc",
   "metadata": {},
   "source": [
    "One can use `.retain_grad()` to save gradients for non-leaf variables."
   ]
  },
  {
   "cell_type": "code",
   "execution_count": 22,
   "id": "70863af2-a2c9-4e89-80fa-f25d4836c145",
   "metadata": {},
   "outputs": [
    {
     "name": "stdout",
     "output_type": "stream",
     "text": [
      "dp / dx: tensor([ 1.3745, -0.3364, -1.3568, -1.1700])\n",
      "dp / dz: tensor([2.1605, 0.4119, 0.2898, 4.8588])\n",
      "dp / dw: tensor([1.0803, 0.2059, 0.1449, 2.4294])\n",
      "y grad: None\n"
     ]
    },
    {
     "name": "stderr",
     "output_type": "stream",
     "text": [
      "/tmp/ipykernel_25547/3606136174.py:13: UserWarning: The .grad attribute of a Tensor that is not a leaf Tensor is being accessed. Its .grad attribute won't be populated during autograd.backward(). If you indeed want the .grad field to be populated for a non-leaf Tensor, use .retain_grad() on the non-leaf Tensor. If you access the non-leaf Tensor by mistake, make sure you access the leaf Tensor instead. See github.com/pytorch/pytorch/pull/30531 for more informations. (Triggered internally at aten/src/ATen/core/TensorBody.h:489.)\n",
      "  print('y grad:', y.grad) # None, because we did not retain graph for y\n"
     ]
    }
   ],
   "source": [
    "x = torch.randn(4, requires_grad=True)   # leaf variable\n",
    "z = torch.randn(4, requires_grad=True)   # leaf variable\n",
    "w = z * 2      # not a leaf variable\n",
    "y = x * w + 1  # forward pass before retaining gradient is ok\n",
    "p = y.sum()\n",
    "\n",
    "w.retain_grad()\n",
    "\n",
    "p.backward()\n",
    "print('dp / dx:', x.grad)\n",
    "print('dp / dz:', z.grad)\n",
    "print('dp / dw:', w.grad)\n",
    "print('y grad:', y.grad) # None, because we did not retain graph for y"
   ]
  },
  {
   "cell_type": "markdown",
   "id": "0b4449a3-6fa4-4272-aa1b-334cab97dd87",
   "metadata": {},
   "source": [
    "Note that even if there are non-leaf variables which require gradient in the computational graph, `.backward()` fails.\n",
    "For correct work at least one of the leaf variables **must** require gradient."
   ]
  },
  {
   "cell_type": "code",
   "execution_count": 23,
   "id": "3617922a-2c22-4952-8320-db668af84acf",
   "metadata": {},
   "outputs": [
    {
     "ename": "RuntimeError",
     "evalue": "element 0 of tensors does not require grad and does not have a grad_fn",
     "output_type": "error",
     "traceback": [
      "\u001b[0;31m---------------------------------------------------------------------------\u001b[0m",
      "\u001b[0;31mRuntimeError\u001b[0m                              Traceback (most recent call last)",
      "Cell \u001b[0;32mIn[23], line 9\u001b[0m\n\u001b[1;32m      6\u001b[0m y \u001b[38;5;241m=\u001b[39m x \u001b[38;5;241m*\u001b[39m w \u001b[38;5;241m+\u001b[39m \u001b[38;5;241m1\u001b[39m  \u001b[38;5;66;03m# forward pass before retaining gradient is ok\u001b[39;00m\n\u001b[1;32m      7\u001b[0m p \u001b[38;5;241m=\u001b[39m y\u001b[38;5;241m.\u001b[39msum()\n\u001b[0;32m----> 9\u001b[0m \u001b[43mp\u001b[49m\u001b[38;5;241;43m.\u001b[39;49m\u001b[43mbackward\u001b[49m\u001b[43m(\u001b[49m\u001b[43m)\u001b[49m\n",
      "File \u001b[0;32m~/miniconda3/envs/env9/lib/python3.9/site-packages/torch/_tensor.py:522\u001b[0m, in \u001b[0;36mTensor.backward\u001b[0;34m(self, gradient, retain_graph, create_graph, inputs)\u001b[0m\n\u001b[1;32m    512\u001b[0m \u001b[38;5;28;01mif\u001b[39;00m has_torch_function_unary(\u001b[38;5;28mself\u001b[39m):\n\u001b[1;32m    513\u001b[0m     \u001b[38;5;28;01mreturn\u001b[39;00m handle_torch_function(\n\u001b[1;32m    514\u001b[0m         Tensor\u001b[38;5;241m.\u001b[39mbackward,\n\u001b[1;32m    515\u001b[0m         (\u001b[38;5;28mself\u001b[39m,),\n\u001b[0;32m   (...)\u001b[0m\n\u001b[1;32m    520\u001b[0m         inputs\u001b[38;5;241m=\u001b[39minputs,\n\u001b[1;32m    521\u001b[0m     )\n\u001b[0;32m--> 522\u001b[0m \u001b[43mtorch\u001b[49m\u001b[38;5;241;43m.\u001b[39;49m\u001b[43mautograd\u001b[49m\u001b[38;5;241;43m.\u001b[39;49m\u001b[43mbackward\u001b[49m\u001b[43m(\u001b[49m\n\u001b[1;32m    523\u001b[0m \u001b[43m    \u001b[49m\u001b[38;5;28;43mself\u001b[39;49m\u001b[43m,\u001b[49m\u001b[43m \u001b[49m\u001b[43mgradient\u001b[49m\u001b[43m,\u001b[49m\u001b[43m \u001b[49m\u001b[43mretain_graph\u001b[49m\u001b[43m,\u001b[49m\u001b[43m \u001b[49m\u001b[43mcreate_graph\u001b[49m\u001b[43m,\u001b[49m\u001b[43m \u001b[49m\u001b[43minputs\u001b[49m\u001b[38;5;241;43m=\u001b[39;49m\u001b[43minputs\u001b[49m\n\u001b[1;32m    524\u001b[0m \u001b[43m\u001b[49m\u001b[43m)\u001b[49m\n",
      "File \u001b[0;32m~/miniconda3/envs/env9/lib/python3.9/site-packages/torch/autograd/__init__.py:266\u001b[0m, in \u001b[0;36mbackward\u001b[0;34m(tensors, grad_tensors, retain_graph, create_graph, grad_variables, inputs)\u001b[0m\n\u001b[1;32m    261\u001b[0m     retain_graph \u001b[38;5;241m=\u001b[39m create_graph\n\u001b[1;32m    263\u001b[0m \u001b[38;5;66;03m# The reason we repeat the same comment below is that\u001b[39;00m\n\u001b[1;32m    264\u001b[0m \u001b[38;5;66;03m# some Python versions print out the first line of a multi-line function\u001b[39;00m\n\u001b[1;32m    265\u001b[0m \u001b[38;5;66;03m# calls in the traceback and some print out the last line\u001b[39;00m\n\u001b[0;32m--> 266\u001b[0m \u001b[43mVariable\u001b[49m\u001b[38;5;241;43m.\u001b[39;49m\u001b[43m_execution_engine\u001b[49m\u001b[38;5;241;43m.\u001b[39;49m\u001b[43mrun_backward\u001b[49m\u001b[43m(\u001b[49m\u001b[43m  \u001b[49m\u001b[38;5;66;43;03m# Calls into the C++ engine to run the backward pass\u001b[39;49;00m\n\u001b[1;32m    267\u001b[0m \u001b[43m    \u001b[49m\u001b[43mtensors\u001b[49m\u001b[43m,\u001b[49m\n\u001b[1;32m    268\u001b[0m \u001b[43m    \u001b[49m\u001b[43mgrad_tensors_\u001b[49m\u001b[43m,\u001b[49m\n\u001b[1;32m    269\u001b[0m \u001b[43m    \u001b[49m\u001b[43mretain_graph\u001b[49m\u001b[43m,\u001b[49m\n\u001b[1;32m    270\u001b[0m \u001b[43m    \u001b[49m\u001b[43mcreate_graph\u001b[49m\u001b[43m,\u001b[49m\n\u001b[1;32m    271\u001b[0m \u001b[43m    \u001b[49m\u001b[43minputs\u001b[49m\u001b[43m,\u001b[49m\n\u001b[1;32m    272\u001b[0m \u001b[43m    \u001b[49m\u001b[43mallow_unreachable\u001b[49m\u001b[38;5;241;43m=\u001b[39;49m\u001b[38;5;28;43;01mTrue\u001b[39;49;00m\u001b[43m,\u001b[49m\n\u001b[1;32m    273\u001b[0m \u001b[43m    \u001b[49m\u001b[43maccumulate_grad\u001b[49m\u001b[38;5;241;43m=\u001b[39;49m\u001b[38;5;28;43;01mTrue\u001b[39;49;00m\u001b[43m,\u001b[49m\n\u001b[1;32m    274\u001b[0m \u001b[43m\u001b[49m\u001b[43m)\u001b[49m\n",
      "\u001b[0;31mRuntimeError\u001b[0m: element 0 of tensors does not require grad and does not have a grad_fn"
     ]
    }
   ],
   "source": [
    "# will not work because leafs do not require grad\n",
    "\n",
    "x = torch.randn(4, requires_grad=False)   # leaf variable\n",
    "z = torch.randn(4, requires_grad=False)   # leaf variable\n",
    "w = z * 2      # not a leaf variable\n",
    "y = x * w + 1  # forward pass before retaining gradient is ok\n",
    "p = y.sum()\n",
    "\n",
    "p.backward()"
   ]
  },
  {
   "cell_type": "code",
   "execution_count": 24,
   "id": "c75de536-37ad-4e99-8519-39bd0094abc7",
   "metadata": {},
   "outputs": [],
   "source": [
    "# will work because at least one leaf variable requires grad\n",
    "\n",
    "x = torch.randn(4, requires_grad=False)   # leaf variable\n",
    "z = torch.randn(4, requires_grad=True)   # leaf variable\n",
    "w = z * 2      # not a leaf variable\n",
    "y = x * w + 1  # forward pass before retaining gradient is ok\n",
    "p = y.sum()\n",
    "\n",
    "p.backward()"
   ]
  },
  {
   "cell_type": "code",
   "execution_count": 25,
   "id": "03437945-b8c3-4da2-ae54-be2df54cc871",
   "metadata": {},
   "outputs": [],
   "source": [
    "# will work because at least one leaf variable requires grad\n",
    "\n",
    "x = torch.randn(4, requires_grad=True)   # leaf variable\n",
    "z = torch.randn(4, requires_grad=False)   # leaf variable\n",
    "w = z * 2      # not a leaf variable\n",
    "y = x * w + 1  # forward pass before retaining gradient is ok\n",
    "p = y.sum()\n",
    "\n",
    "p.backward()"
   ]
  },
  {
   "cell_type": "code",
   "execution_count": 26,
   "id": "56e1cd4f-c097-412d-aba4-68c0eed78b41",
   "metadata": {},
   "outputs": [
    {
     "ename": "RuntimeError",
     "evalue": "can't retain_grad on Tensor that has requires_grad=False",
     "output_type": "error",
     "traceback": [
      "\u001b[0;31m---------------------------------------------------------------------------\u001b[0m",
      "\u001b[0;31mRuntimeError\u001b[0m                              Traceback (most recent call last)",
      "Cell \u001b[0;32mIn[26], line 8\u001b[0m\n\u001b[1;32m      5\u001b[0m y \u001b[38;5;241m=\u001b[39m x \u001b[38;5;241m*\u001b[39m w \u001b[38;5;241m+\u001b[39m \u001b[38;5;241m1\u001b[39m  \u001b[38;5;66;03m# forward pass before retaining gradient is ok\u001b[39;00m\n\u001b[1;32m      6\u001b[0m p \u001b[38;5;241m=\u001b[39m y\u001b[38;5;241m.\u001b[39msum()\n\u001b[0;32m----> 8\u001b[0m \u001b[43mw\u001b[49m\u001b[38;5;241;43m.\u001b[39;49m\u001b[43mretain_grad\u001b[49m\u001b[43m(\u001b[49m\u001b[43m)\u001b[49m\n\u001b[1;32m     10\u001b[0m p\u001b[38;5;241m.\u001b[39mbackward()\n",
      "\u001b[0;31mRuntimeError\u001b[0m: can't retain_grad on Tensor that has requires_grad=False"
     ]
    }
   ],
   "source": [
    "# will not work\n",
    "x = torch.randn(4, requires_grad=False)   # leaf variable\n",
    "z = torch.randn(4, requires_grad=False)   # leaf variable\n",
    "w = z * 2      # not a leaf variable\n",
    "y = x * w + 1  # forward pass before retaining gradient is ok\n",
    "p = y.sum()\n",
    "\n",
    "w.retain_grad()\n",
    "\n",
    "p.backward()"
   ]
  },
  {
   "cell_type": "code",
   "execution_count": 27,
   "id": "5bdc2eba-e8ef-47dd-bc17-c9d65329d02d",
   "metadata": {},
   "outputs": [
    {
     "ename": "RuntimeError",
     "evalue": "can't retain_grad on Tensor that has requires_grad=False",
     "output_type": "error",
     "traceback": [
      "\u001b[0;31m---------------------------------------------------------------------------\u001b[0m",
      "\u001b[0;31mRuntimeError\u001b[0m                              Traceback (most recent call last)",
      "Cell \u001b[0;32mIn[27], line 8\u001b[0m\n\u001b[1;32m      5\u001b[0m y \u001b[38;5;241m=\u001b[39m x \u001b[38;5;241m*\u001b[39m w \u001b[38;5;241m+\u001b[39m \u001b[38;5;241m1\u001b[39m  \u001b[38;5;66;03m# forward pass before retaining gradient is ok\u001b[39;00m\n\u001b[1;32m      6\u001b[0m p \u001b[38;5;241m=\u001b[39m y\u001b[38;5;241m.\u001b[39msum()\n\u001b[0;32m----> 8\u001b[0m \u001b[43mw\u001b[49m\u001b[38;5;241;43m.\u001b[39;49m\u001b[43mretain_grad\u001b[49m\u001b[43m(\u001b[49m\u001b[43m)\u001b[49m\n\u001b[1;32m     10\u001b[0m p\u001b[38;5;241m.\u001b[39mbackward()\n",
      "\u001b[0;31mRuntimeError\u001b[0m: can't retain_grad on Tensor that has requires_grad=False"
     ]
    }
   ],
   "source": [
    "# will not work, because w relies on z, not on x\n",
    "x = torch.randn(4, requires_grad=True)   # leaf variable\n",
    "z = torch.randn(4, requires_grad=False)   # leaf variable\n",
    "w = z * 2      # not a leaf variable\n",
    "y = x * w + 1  # forward pass before retaining gradient is ok\n",
    "p = y.sum()\n",
    "\n",
    "w.retain_grad()\n",
    "\n",
    "p.backward()"
   ]
  },
  {
   "cell_type": "code",
   "execution_count": 28,
   "id": "89deadf6-e1b7-4a4d-ae80-10cb84a67956",
   "metadata": {},
   "outputs": [],
   "source": [
    "# will work\n",
    "x = torch.randn(4, requires_grad=False)   # leaf variable\n",
    "z = torch.randn(4, requires_grad=True)   # leaf variable\n",
    "w = z * 2      # not a leaf variable\n",
    "y = x * w + 1  # forward pass before retaining gradient is ok\n",
    "p = y.sum()\n",
    "\n",
    "w.retain_grad()\n",
    "\n",
    "p.backward()"
   ]
  },
  {
   "cell_type": "markdown",
   "id": "469c123e-d851-4248-bbb0-b17985d183d0",
   "metadata": {},
   "source": [
    "# Datasets\n",
    "\n",
    "To train or inference your DNN model, you need input data (and ground truth \\ desired output data for training). In `PyTorch`, you need two objects for this.\n",
    "\n",
    "1. `Dataset`: the ordered set of all data that you have. Given the index $i$, returns $X_i$ (or anything else from `data[i]`, for example $Y_i$) from the dataset\n",
    "2. `DataLoader`: an iterable object that combines your data into batches: $B = (\\text{item}_1, ... \\text{item}_{\\text{batch size}})$, "
   ]
  },
  {
   "cell_type": "code",
   "execution_count": 29,
   "id": "bd395810-47f4-4c3d-bbcf-405dbbdf8d71",
   "metadata": {},
   "outputs": [],
   "source": [
    "from torch.utils.data import DataLoader, Dataset"
   ]
  },
  {
   "cell_type": "markdown",
   "id": "1c842e04-43ad-4b2a-9ca2-c945871f1418",
   "metadata": {},
   "source": [
    "The `Dataset` is a class that initiates our data somehow in the constructor. It also has two main methods `__getitem__` and `__len__`.\n",
    "Let's make a simple dataset, where one element is a vector of size 10"
   ]
  },
  {
   "cell_type": "code",
   "execution_count": 30,
   "id": "0fafea3b-4588-4984-95c6-a2a6a2360305",
   "metadata": {},
   "outputs": [],
   "source": [
    "class SimpleDataset(Dataset):\n",
    "    \n",
    "    def __init__(self, data: torch.Tensor):\n",
    "        self.data = data\n",
    "    \n",
    "    def __getitem__(self, index: int):\n",
    "        return self.data[index]\n",
    "\n",
    "    def __len__(self):\n",
    "        return len(self.data)"
   ]
  },
  {
   "cell_type": "code",
   "execution_count": 31,
   "id": "79bfa014-ffac-4717-80df-48b1976a166a",
   "metadata": {},
   "outputs": [],
   "source": [
    "example_data = torch.randn(1000, 10) # X = 1000 elements (vectors) of size 10\n",
    "simple_dataset = SimpleDataset(example_data)"
   ]
  },
  {
   "cell_type": "code",
   "execution_count": 32,
   "id": "37629622-e0f4-4966-9efa-921df596a61f",
   "metadata": {},
   "outputs": [
    {
     "data": {
      "text/plain": [
       "tensor([ 0.1542,  2.4574, -0.4700, -0.4856, -0.0843,  0.6401, -0.7215,  1.2653,\n",
       "         0.5506, -0.5688])"
      ]
     },
     "execution_count": 32,
     "metadata": {},
     "output_type": "execute_result"
    }
   ],
   "source": [
    "simple_dataset[10] # get X_10"
   ]
  },
  {
   "cell_type": "code",
   "execution_count": 33,
   "id": "f15a8c3e-36b3-4850-820f-a0ca9efcbd24",
   "metadata": {},
   "outputs": [
    {
     "data": {
      "text/plain": [
       "1000"
      ]
     },
     "execution_count": 33,
     "metadata": {},
     "output_type": "execute_result"
    }
   ],
   "source": [
    "len(simple_dataset) # length of the dataset, i.e. the total number of elements"
   ]
  },
  {
   "cell_type": "markdown",
   "id": "f5ee5e0d-6349-4a28-960e-340bb2fe0422",
   "metadata": {},
   "source": [
    "`DataLoader` is an iterable object (iterator, to be precise). It provides you with a sequence of batches. To access the batch, usually you work with a `for`-loop:"
   ]
  },
  {
   "cell_type": "code",
   "execution_count": 34,
   "id": "86115e62-4972-4e08-afe7-a8ca8a0ecd31",
   "metadata": {},
   "outputs": [],
   "source": [
    "simple_dataloader = DataLoader(simple_dataset, batch_size=20)"
   ]
  },
  {
   "cell_type": "code",
   "execution_count": 35,
   "id": "7cd367f9-3e24-48c3-a025-41765b641442",
   "metadata": {},
   "outputs": [
    {
     "name": "stdout",
     "output_type": "stream",
     "text": [
      "torch.Size([20, 10])\n"
     ]
    }
   ],
   "source": [
    "for i, element in enumerate(simple_dataloader): # enumerate allows to get batch index in the dataloader sequence\n",
    "    print(element.shape) # first dim is batch_size, the second and after are element shape\n",
    "    if i == 0: # break after the first element (for this example)\n",
    "        break"
   ]
  },
  {
   "cell_type": "code",
   "execution_count": 36,
   "id": "343fd5bd-8ac9-405b-8aa6-6a94aaacb944",
   "metadata": {},
   "outputs": [
    {
     "name": "stdout",
     "output_type": "stream",
     "text": [
      "torch.Size([20, 10])\n",
      "torch.Size([20, 10])\n"
     ]
    }
   ],
   "source": [
    "# one may use islice or next to get one batch from the dataloader\n",
    "\n",
    "batch = next(iter(simple_dataloader))\n",
    "print(batch.shape)\n",
    "\n",
    "from itertools import islice\n",
    "\n",
    "first_batch = list(islice(simple_dataloader, 0, 1))[0] # [0] because islice returns [batch]\n",
    "print(first_batch.shape)"
   ]
  },
  {
   "cell_type": "markdown",
   "id": "89836cbc-b969-4e16-a8cc-fbb7e194d61d",
   "metadata": {},
   "source": [
    "Note that here batch is a tensor, because we have the dataset returns only **one** object. If the dataset returns 2 objects, for example $x$ and $y$, the batch will be a tuple `(x, y)`. We can also work with batches as dictionaries, we will see it in the future lessons"
   ]
  },
  {
   "cell_type": "markdown",
   "id": "c1509b27-3202-4bcb-a4fb-d9466a1cfe62",
   "metadata": {},
   "source": [
    "# Optimization (Training a model, finding local minima, etc.)"
   ]
  },
  {
   "cell_type": "code",
   "execution_count": 37,
   "id": "924cbe50-98f5-46b4-b938-869f57fb1a38",
   "metadata": {},
   "outputs": [],
   "source": [
    "def func(x):\n",
    "    return (x - 10) ** 2 + 14"
   ]
  },
  {
   "cell_type": "code",
   "execution_count": 42,
   "id": "8e897488-9d62-4502-b035-528349450fbf",
   "metadata": {},
   "outputs": [
    {
     "data": {
      "image/png": "[encoded data removed]",
      "text/plain": [
       "<Figure size 640x480 with 1 Axes>"
      ]
     },
     "metadata": {
      "image/png": {
       "height": 432,
       "width": 589
      }
     },
     "output_type": "display_data"
    }
   ],
   "source": [
    "x = torch.linspace(-100, 100, 100)\n",
    "y = func(x)\n",
    "\n",
    "plt.plot(x, y)\n",
    "plt.scatter([10], [14], label='Minimum', c='red')\n",
    "plt.legend()\n",
    "plt.xlabel(\"x\")\n",
    "plt.ylabel(\"f(x)\")\n",
    "plt.show()"
   ]
  },
  {
   "cell_type": "code",
   "execution_count": 39,
   "id": "833b810e-ef36-4d0c-a467-de6df8fff8b2",
   "metadata": {},
   "outputs": [],
   "source": [
    "import time\n",
    "from IPython import display"
   ]
  },
  {
   "cell_type": "code",
   "execution_count": 41,
   "id": "50786435-dc94-44d6-9926-89f5e8a9f044",
   "metadata": {},
   "outputs": [
    {
     "data": {
      "image/png": "[encoded data removed]",
      "text/plain": [
       "<Figure size 640x480 with 1 Axes>"
      ]
     },
     "metadata": {
      "image/png": {
       "height": 454,
       "width": 589
      }
     },
     "output_type": "display_data"
    }
   ],
   "source": [
    "# requires_grad=True is required\n",
    "current_solution = torch.tensor([100.], requires_grad=True)\n",
    "\n",
    "# initialize a simple SGD\n",
    "# SGD will minimize only one variable — current_solution\n",
    "optimizer = torch.optim.SGD([current_solution], lr=1e-2)\n",
    "\n",
    "NUM_STEP = 200\n",
    "\n",
    "\n",
    "for i in range(NUM_STEP):\n",
    "    current_loss = func(current_solution)\n",
    "    \n",
    "    # zero out .grad of `current_solution` \n",
    "    # remember that otherwise your new gradients will be summed with the existing ones\n",
    "    optimizer.zero_grad()\n",
    "    \n",
    "    # compute new gradient by `current_solution`\n",
    "    current_loss.backward()\n",
    "    \n",
    "    # update current_solution\n",
    "    optimizer.step()\n",
    "\n",
    "    # some logging and visualization stuff\n",
    "    if i % 20 == 0:\n",
    "        display.clear_output()\n",
    "        \n",
    "        x = torch.linspace(-100, 100, 100)\n",
    "        y = func(x)\n",
    "\n",
    "        plt.plot(x, y)\n",
    "        plt.scatter([10], [14], label=\"Minimum\", c=\"red\", linewidths=3)\n",
    "        plt.scatter([current_solution.item()], [current_loss.item()],\n",
    "                    label=\"Current Solution\", marker=\"*\", c=\"green\", linewidths=3)\n",
    "        \n",
    "        plt.legend()\n",
    "        plt.title(f\"Step Number: {i}\")\n",
    "        plt.xlabel(\"x\")\n",
    "        plt.ylabel(\"f(x)\")\n",
    "        plt.show()\n",
    "        \n",
    "        time.sleep(1)"
   ]
  },
  {
   "cell_type": "markdown",
   "id": "e0ecd201-22e3-489b-a799-91a5c42f8ba4",
   "metadata": {},
   "source": [
    "# The General Pipeline\n",
    "\n",
    "Training pipeline for your DNN model is similar to the example with some function above. To train your model you will need:\n",
    "\n",
    "1. Define your model\n",
    "2. Define a `Dataset` and `DataLoader`\n",
    "3. Choose an optimizer. Usually, `torch.optim.SGD` or `torch.optim.Adam`. Your optimizer should work with `model.parameters()` to optimize model weights. Basically, we will have `model.parameters()` instead of `[current_solution]` in the example above.\n",
    "4. Choose a scheduler. That is, control learning rate (step size) for your optimizer. There are plenty of them in `torch.optim.lr_scheduler`. Usually, people use [Constant](https://pytorch.org/docs/stable/generated/torch.optim.lr_scheduler.ConstantLR.html), [Plateau](https://pytorch.org/docs/stable/generated/torch.optim.lr_scheduler.ReduceLROnPlateau.html#torch.optim.lr_scheduler.ReduceLROnPlateau), [StepLR](https://pytorch.org/docs/stable/generated/torch.optim.lr_scheduler.StepLR.html#torch.optim.lr_scheduler.StepLR), [CosineAnnealing](https://pytorch.org/docs/stable/generated/torch.optim.lr_scheduler.CosineAnnealingLR.html#torch.optim.lr_scheduler.CosineAnnealingLR), or [OneCycleLR](https://pytorch.org/docs/stable/generated/torch.optim.lr_scheduler.OneCycleLR.html#torch.optim.lr_scheduler.OneCycleLR). The absence of scheduler is equivalent to a constant learning rate.\n",
    "5. Iterate over your dataloader (for DNNs you reuse the same dataloader (the data shuffles) several times, a.k.a. epochs). For each batch, compute the loss, do `.backward`, run `optimizer.step()` to update weights and `scheduler.step()` to update learning rate. **Do not forget to zero gradients between batches via calling `oprimizer.zero_grad()` after `step()` or at the beginning of the for-loop**. Do some logging (recommended).\n",
    "6. Finish, your model is trained.\n",
    "\n",
    "The choice of the scheduler and optimizer depends on the task. There is no such setting that works all the time, you should try several settings and choose the one that works best for your task. If you want to work with a model from some paper, the best starting point would be to use the **same** optimizer and scheduler, as was done by the authors. \n",
    "\n",
    "**We will have a look at this pipeline in the next lesson**"
   ]
  },
  {
   "cell_type": "code",
   "execution_count": null,
   "id": "1fb87f97-4c30-4d54-a390-82e00bb1759d",
   "metadata": {},
   "outputs": [],
   "source": []
  }
 ],
 "metadata": {
  "kernelspec": {
   "display_name": "Python 3 (ipykernel)",
   "language": "python",
   "name": "python3"
  },
  "language_info": {
   "codemirror_mode": {
    "name": "ipython",
    "version": 3
   },
   "file_extension": ".py",
   "mimetype": "text/x-python",
   "name": "python",
   "nbconvert_exporter": "python",
   "pygments_lexer": "ipython3",
   "version": "3.9.7"
  }
 },
 "nbformat": 4,
 "nbformat_minor": 5
}
